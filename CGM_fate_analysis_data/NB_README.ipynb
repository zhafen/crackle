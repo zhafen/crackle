{
 "cells": [
  {
   "cell_type": "markdown",
   "metadata": {},
   "source": [
    "# README\n",
    "The folder containing this notebook also contains data used to produce many of the figures in Hafen+2019. This notebook clarifies what each data product is, and provides example code for reading in the data.\n",
    "\n",
    "**If you have any questions or would like data not available here,\n",
    "please contact Zach Hafen at zhafen@u.northwestern.edu.**"
   ]
  },
  {
   "cell_type": "code",
   "execution_count": 1,
   "metadata": {},
   "outputs": [],
   "source": [
    "import h5py\n",
    "import numpy as np"
   ]
  },
  {
   "cell_type": "markdown",
   "metadata": {},
   "source": [
    "## CGM Mass Contributed by Different Fates\n",
    "\n",
    "Files matching `cgm_fates*frac*` contain data for Figure 5"
   ]
  },
  {
   "cell_type": "code",
   "execution_count": 2,
   "metadata": {},
   "outputs": [],
   "source": [
    "# Open one of the files. snum465 -> z=0.25, snum172 -> z=2\n",
    "f = h5py.File( 'cgm_fates_mass_frac_snum465.hdf5' )"
   ]
  },
  {
   "cell_type": "code",
   "execution_count": 3,
   "metadata": {},
   "outputs": [
    {
     "data": {
      "text/plain": [
       "array([0.01435764, 0.12546377, 0.1374938 , 0.2178874 , 0.28141311,\n",
       "       0.68777823, 0.26446858, 0.47056195, 0.2311306 , 0.32834294,\n",
       "       0.32947749, 0.2694726 , 0.41795975, 0.18185213, 0.45508942,\n",
       "       0.29576144, 0.3425369 , 0.51259613, 0.35189101, 0.15589507,\n",
       "       0.46928763])"
      ]
     },
     "execution_count": 3,
     "metadata": {},
     "output_type": "execute_result"
    }
   ],
   "source": [
    "# For example, this is the fraction of CGM mass that will be accreted onto the central galaxy\n",
    "f['fate']['all']['is_CGM_accreted'][...]"
   ]
  },
  {
   "cell_type": "code",
   "execution_count": 4,
   "metadata": {},
   "outputs": [
    {
     "data": {
      "text/plain": [
       "array(['m10q', 'm10v', 'm10y', 'm10z', 'm11q', 'm11v', 'm11a', 'm11b',\n",
       "       'm11c', 'm12i', 'm12f', 'm12m', 'm11d_md', 'm11e_md', 'm11h_md',\n",
       "       'm11i_md', 'm12b_md', 'm12c_md', 'm12z_md', 'm12r_md', 'm12w_md'],\n",
       "      dtype=object)"
      ]
     },
     "execution_count": 4,
     "metadata": {},
     "output_type": "execute_result"
    }
   ],
   "source": [
    "# The simulations associated with each value are in this array\n",
    "f['fate']['all']['name'][...]"
   ]
  },
  {
   "cell_type": "markdown",
   "metadata": {},
   "source": [
    "# Temperature and Metallicities of CGM Gas per Fate\n",
    "\n",
    "For Figures 7 and 8"
   ]
  },
  {
   "cell_type": "code",
   "execution_count": 5,
   "metadata": {},
   "outputs": [],
   "source": [
    "f = h5py.File( 'cgm_fates_temps_and_mets_snum465.hdf5' )"
   ]
  },
  {
   "cell_type": "code",
   "execution_count": 6,
   "metadata": {},
   "outputs": [
    {
     "data": {
      "text/plain": [
       "array([5.8911471e+00, 2.9397519e+00, 1.4925374e-04, ..., 2.5850513e+00,\n",
       "       1.4925374e-04, 8.1550635e-02], dtype=float32)"
      ]
     },
     "execution_count": 6,
     "metadata": {},
     "output_type": "execute_result"
    }
   ],
   "source": [
    "# Metallicities (in units of Asplund+2009 solar metallicity) in m12i at z=0.25\n",
    "# for all particles that will next accrete onto the central galaxy\n",
    "f['Z_asplund']['is_CGM_accreted']['m12i'][...]"
   ]
  }
 ],
 "metadata": {
  "kernelspec": {
   "display_name": "Python 3",
   "language": "python",
   "name": "python3"
  },
  "language_info": {
   "codemirror_mode": {
    "name": "ipython",
    "version": 3
   },
   "file_extension": ".py",
   "mimetype": "text/x-python",
   "name": "python",
   "nbconvert_exporter": "python",
   "pygments_lexer": "ipython3",
   "version": "3.7.1"
  }
 },
 "nbformat": 4,
 "nbformat_minor": 2
}
